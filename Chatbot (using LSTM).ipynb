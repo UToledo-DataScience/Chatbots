{
  "nbformat": 4,
  "nbformat_minor": 0,
  "metadata": {
    "colab": {
      "name": "Chatbot",
      "provenance": []
    },
    "kernelspec": {
      "name": "python3",
      "display_name": "Python 3"
    },
    "accelerator": "GPU"
  },
  "cells": [
    {
      "cell_type": "markdown",
      "metadata": {
        "id": "oyEWED0KIqLV",
        "colab_type": "text"
      },
      "source": [
        "# **Load and process data**"
      ]
    },
    {
      "cell_type": "code",
      "metadata": {
        "id": "fRkV3_3mMNcX",
        "colab_type": "code",
        "colab": {
          "base_uri": "https://localhost:8080/",
          "height": 85
        },
        "outputId": "723c60b0-67f1-476a-d663-75323183195a"
      },
      "source": [
        "import tensorflow as tf\n",
        "import numpy as np\n",
        "from matplotlib import pyplot as plt\n",
        "import os\n",
        "import time\n",
        "import json\n",
        "\n",
        "path_to_file = tf.keras.utils.get_file('movies.json', 'https://raw.githubusercontent.com/google-research-datasets/Taskmaster/master/TM-2-2020/data/movies.json')\n",
        "\n",
        "with open(path_to_file) as file:\n",
        "  data = json.load(file)\n",
        "\n",
        "user = list()\n",
        "assistant = list()\n",
        "sentence = '<start>'\n",
        "\n",
        "for conversation in data:\n",
        "  user_has_not_started = True\n",
        "  # The conversation starts with the user speaks first\n",
        "  user_is_talking = True\n",
        "  assistant_is_talking = False\n",
        "\n",
        "  for utterance in conversation['utterances']:\n",
        "    if utterance['speaker'] == 'ASSISTANT' and user_has_not_started:\n",
        "      continue\n",
        "    else:\n",
        "      user_has_not_started = False\n",
        "    \n",
        "      # process the utterance  \n",
        "      buffer = utterance['text']\n",
        "      if utterance.get('segments'):\n",
        "        for segment in utterance.get('segments'):\n",
        "          annotation = segment.get('annotations')[0]['name']\n",
        "          annotation = '<' + annotation.replace('.','<>').replace('_','<>') + '>'\n",
        "          buffer = buffer.replace(segment.get('text'), annotation)\n",
        "      \n",
        "      if utterance['speaker'] == 'USER':\n",
        "        if assistant_is_talking:\n",
        "          # finish assistant's sentence\n",
        "          sentence = ' '.join(sentence.split(' ')[:-1]) + ' ' + '<end>'\n",
        "          assistant.append(sentence)\n",
        "          assistant_is_talking = False\n",
        "\n",
        "          # reset the sentence for user\n",
        "          sentence = '<start>'\n",
        "          user_is_talking = True\n",
        "      \n",
        "      if utterance['speaker'] == 'ASSISTANT':\n",
        "        if user_is_talking:\n",
        "          # finish user's sentence\n",
        "          sentence = ' '.join(sentence.split(' ')[:-1]) + ' ' + '<end>'\n",
        "          user.append(sentence)\n",
        "          user_is_talking = False\n",
        "\n",
        "          # reset the sentence for assistant\n",
        "          sentence = '<start>'\n",
        "          assistant_is_talking = True\n",
        "          \n",
        "      # append to the sentence\n",
        "      sentence = sentence + ' ' + buffer + ' ' + '<pause>'\n",
        "  \n",
        "  if assistant_is_talking:\n",
        "    sentence = ' '.join(sentence.split(' ')[:-1]) + ' ' + '<end>'\n",
        "    assistant.append(sentence)\n",
        "  \n",
        "print('Lenght User: {}'.format(len(user)))\n",
        "print('Lenght Assistant: {}'.format(len(assistant)))"
      ],
      "execution_count": 1,
      "outputs": [
        {
          "output_type": "stream",
          "text": [
            "Downloading data from https://raw.githubusercontent.com/google-research-datasets/Taskmaster/master/TM-2-2020/data/movies.json\n",
            "21192704/21189893 [==============================] - 0s 0us/step\n",
            "Lenght User: 23961\n",
            "Lenght Assistant: 23961\n"
          ],
          "name": "stdout"
        }
      ]
    },
    {
      "cell_type": "code",
      "metadata": {
        "id": "lakv70fBUhKb",
        "colab_type": "code",
        "colab": {
          "base_uri": "https://localhost:8080/",
          "height": 34
        },
        "outputId": "f617dbdc-3f40-4ad5-e658-1e94725178a3"
      },
      "source": [
        "a = list()\n",
        "for conversation in data:\n",
        "  for utterance in conversation['utterances']:\n",
        "    if utterance.get('segments'):\n",
        "      for segment in utterance.get('segments'):\n",
        "        a.extend(segment['annotations'])\n",
        "\n",
        "a = list(map(lambda x: x['name'].replace('.','<>').replace('_','<>'), a))\n",
        "print(len(set(a)))"
      ],
      "execution_count": 4,
      "outputs": [
        {
          "output_type": "stream",
          "text": [
            "26\n"
          ],
          "name": "stdout"
        }
      ]
    },
    {
      "cell_type": "markdown",
      "metadata": {
        "id": "MYQvuw2JpDpO",
        "colab_type": "text"
      },
      "source": [
        "There are 26 different types of annotation in this dataset."
      ]
    },
    {
      "cell_type": "code",
      "metadata": {
        "id": "8z3f7r7EQjr_",
        "colab_type": "code",
        "colab": {
          "base_uri": "https://localhost:8080/",
          "height": 595
        },
        "outputId": "01981d5a-65a5-4a27-bd96-be8b65845f57"
      },
      "source": [
        "from tensorflow.keras.preprocessing.text import Tokenizer\n",
        "from tensorflow.keras.preprocessing.sequence import pad_sequences\n",
        "\n",
        "tokenizer = Tokenizer(oov_token='<OOV>', filters='\\'!\"#$%&()*+,-./:;=?@[\\\\]^_`{|}~\\t\\n')\n",
        "tokenizer.fit_on_texts(assistant + user)\n",
        "\n",
        "word_index = tokenizer.word_index\n",
        "\n",
        "print('Vocabulary length: {}'.format(len(word_index)))\n",
        "\n",
        "encoder_input = tokenizer.texts_to_sequences(user)\n",
        "decoder_input = tokenizer.texts_to_sequences(assistant)\n",
        "target = list()\n",
        "for inp in decoder_input:\n",
        "  a = inp[1:]\n",
        "  a.append(0)\n",
        "  target.append(a)\n",
        "\n",
        "encoder_input = pad_sequences(encoder_input, padding='post')\n",
        "decoder_input = pad_sequences(decoder_input, padding='post')\n",
        "target = pad_sequences(target, padding='post')\n",
        "\n",
        "max_encoder_len = len(encoder_input[0])\n",
        "max_decoder_len = len(decoder_input[0])\n",
        "\n",
        "print('Sample encoder:')\n",
        "print(encoder_input[0])\n",
        "print('Sample decoder:')\n",
        "print(decoder_input[0])\n",
        "print('Sample target:')\n",
        "print(target[0])\n",
        "print('Max length encoder: {}'.format(max_encoder_len))\n",
        "print('Max length decoder: {}'.format(max_decoder_len))\n",
        "print('Dataset size: {}'.format(len(encoder_input)))\n",
        "\n",
        "dataset = tf.data.Dataset.from_tensor_slices((encoder_input, decoder_input, target))\n",
        "\n",
        "# Batch size\n",
        "BATCH_SIZE = 50\n",
        "BUFFER_SIZE = 10000\n",
        "dataset = dataset.shuffle(BUFFER_SIZE).batch(BATCH_SIZE, drop_remainder=True)\n",
        "print(dataset.take(1))"
      ],
      "execution_count": 5,
      "outputs": [
        {
          "output_type": "stream",
          "text": [
            "Vocabulary length: 6580\n",
            "Sample encoder:\n",
            "[ 3 21 58 22 62  2  0  0  0  0  0  0  0  0  0  0  0  0  0  0  0  0  0  0\n",
            "  0  0  0  0  0  0  0  0  0  0  0  0  0  0  0  0  0  0  0  0  0  0  0  0\n",
            "  0  0  0  0  0  0  0  0  0  0  0  0  0  0  0  0  0  0  0  0  0  0  0  0\n",
            "  0  0  0  0  0  0  0  0  0  0  0  0  0  0  0  0  0  0  0  0  0  0  0  0\n",
            "  0  0  0  0  0  0  0  0  0  0  0  0  0  0  0  0  0  0  0  0  0  0  0  0\n",
            "  0  0  0  0  0  0  0  0  0  0  0  0  0  0  0  0  0  0  0  0]\n",
            "Sample decoder:\n",
            "[  3   5  26  30   4  45  37  10 236  11 148  22   4 231   2   0   0   0\n",
            "   0   0   0   0   0   0   0   0   0   0   0   0   0   0   0   0   0   0\n",
            "   0   0   0   0   0   0   0   0   0   0   0   0   0   0   0   0   0   0\n",
            "   0   0   0   0   0   0   0   0   0   0   0   0   0   0   0   0   0   0\n",
            "   0   0   0   0   0   0   0   0   0   0   0   0   0   0   0   0   0   0\n",
            "   0   0   0   0   0   0   0   0   0   0   0   0   0   0   0   0   0   0\n",
            "   0   0   0   0   0   0   0   0   0   0   0   0   0   0   0   0   0   0\n",
            "   0   0   0   0   0   0   0   0   0   0   0   0   0   0   0   0   0   0\n",
            "   0   0   0   0   0   0   0   0   0   0   0   0   0   0   0   0   0   0\n",
            "   0   0   0   0   0   0   0   0   0]\n",
            "Sample target:\n",
            "[  5  26  30   4  45  37  10 236  11 148  22   4 231   2   0   0   0   0\n",
            "   0   0   0   0   0   0   0   0   0   0   0   0   0   0   0   0   0   0\n",
            "   0   0   0   0   0   0   0   0   0   0   0   0   0   0   0   0   0   0\n",
            "   0   0   0   0   0   0   0   0   0   0   0   0   0   0   0   0   0   0\n",
            "   0   0   0   0   0   0   0   0   0   0   0   0   0   0   0   0   0   0\n",
            "   0   0   0   0   0   0   0   0   0   0   0   0   0   0   0   0   0   0\n",
            "   0   0   0   0   0   0   0   0   0   0   0   0   0   0   0   0   0   0\n",
            "   0   0   0   0   0   0   0   0   0   0   0   0   0   0   0   0   0   0\n",
            "   0   0   0   0   0   0   0   0   0   0   0   0   0   0   0   0   0   0\n",
            "   0   0   0   0   0   0   0   0   0]\n",
            "Max length encoder: 140\n",
            "Max length decoder: 171\n",
            "Dataset size: 23961\n",
            "<TakeDataset shapes: ((50, 140), (50, 171), (50, 171)), types: (tf.int32, tf.int32, tf.int32)>\n"
          ],
          "name": "stdout"
        }
      ]
    },
    {
      "cell_type": "markdown",
      "metadata": {
        "id": "yAGOsGwaIy8Y",
        "colab_type": "text"
      },
      "source": [
        "# **LSTM**"
      ]
    },
    {
      "cell_type": "code",
      "metadata": {
        "id": "YevQpQBW895w",
        "colab_type": "code",
        "colab": {}
      },
      "source": [
        "# Directory where the checkpoints will be saved\n",
        "checkpoint_dir = './drive/My Drive/data/checkpoint'\n",
        "checkpoint_prefix = os.path.join(checkpoint_dir, \"ckpt_{epoch}\")"
      ],
      "execution_count": null,
      "outputs": []
    },
    {
      "cell_type": "code",
      "metadata": {
        "id": "cNWYXedm9QBx",
        "colab_type": "code",
        "colab": {
          "base_uri": "https://localhost:8080/",
          "height": 1000
        },
        "outputId": "f5cd1e61-7fc5-49a9-dfa0-c3af3d3c5e6e"
      },
      "source": [
        "EMBEDDING_DIM = 200\n",
        "RNN_UNITS = 100\n",
        "VOCAB_SIZE = len(word_index) + 1 # word_index count from 1, but keras layers count from 0\n",
        "\n",
        "def build_train_model(embedding_dim, rnn_units, vocab_size):\n",
        "  # encoding\n",
        "  encoder_inputs = tf.keras.layers.Input(shape=(max_encoder_len,))\n",
        "  encoder_embedding = tf.keras.layers.Embedding(vocab_size, embedding_dim, mask_zero=True)(encoder_inputs)\n",
        "  encoder_outputs, state_h, state_c = tf.keras.layers.LSTM(rnn_units, return_state=True)(encoder_embedding)\n",
        "  encoder_states = [state_h, state_c]\n",
        "\n",
        "  # decoding\n",
        "  decoder_inputs = tf.keras.layers.Input(shape=(max_decoder_len,))\n",
        "  decoder_embedding = tf.keras.layers.Embedding(vocab_size, embedding_dim, mask_zero=True)(decoder_inputs)\n",
        "  decoder_outputs , _ , _ = tf.keras.layers.LSTM(rnn_units , return_state=True , return_sequences=True )(decoder_embedding, initial_state=encoder_states)\n",
        "  output = tf.keras.layers.Dense(vocab_size, activation=tf.keras.activations.softmax)(decoder_outputs)\n",
        "\n",
        "  return tf.keras.models.Model([encoder_inputs, decoder_inputs], output )\n",
        "\n",
        "train_model = build_train_model(EMBEDDING_DIM, RNN_UNITS, VOCAB_SIZE)\n",
        "train_model.load_weights(tf.train.latest_checkpoint(checkpoint_dir))\n",
        "train_model.summary()\n",
        "tf.keras.utils.plot_model(train_model, show_shapes=True)"
      ],
      "execution_count": null,
      "outputs": [
        {
          "output_type": "stream",
          "text": [
            "WARNING:tensorflow:Unresolved object in checkpoint: (root).optimizer\n",
            "WARNING:tensorflow:Unresolved object in checkpoint: (root).optimizer.iter\n",
            "WARNING:tensorflow:Unresolved object in checkpoint: (root).optimizer.beta_1\n",
            "WARNING:tensorflow:Unresolved object in checkpoint: (root).optimizer.beta_2\n",
            "WARNING:tensorflow:Unresolved object in checkpoint: (root).optimizer.decay\n",
            "WARNING:tensorflow:Unresolved object in checkpoint: (root).optimizer.learning_rate\n",
            "WARNING:tensorflow:Unresolved object in checkpoint: (root).optimizer's state 'm' for (root).layer_with_weights-0.embeddings\n",
            "WARNING:tensorflow:Unresolved object in checkpoint: (root).optimizer's state 'm' for (root).layer_with_weights-1.embeddings\n",
            "WARNING:tensorflow:Unresolved object in checkpoint: (root).optimizer's state 'm' for (root).layer_with_weights-4.kernel\n",
            "WARNING:tensorflow:Unresolved object in checkpoint: (root).optimizer's state 'm' for (root).layer_with_weights-4.bias\n",
            "WARNING:tensorflow:Unresolved object in checkpoint: (root).optimizer's state 'm' for (root).layer_with_weights-2.cell.kernel\n",
            "WARNING:tensorflow:Unresolved object in checkpoint: (root).optimizer's state 'm' for (root).layer_with_weights-2.cell.recurrent_kernel\n",
            "WARNING:tensorflow:Unresolved object in checkpoint: (root).optimizer's state 'm' for (root).layer_with_weights-2.cell.bias\n",
            "WARNING:tensorflow:Unresolved object in checkpoint: (root).optimizer's state 'm' for (root).layer_with_weights-3.cell.kernel\n",
            "WARNING:tensorflow:Unresolved object in checkpoint: (root).optimizer's state 'm' for (root).layer_with_weights-3.cell.recurrent_kernel\n",
            "WARNING:tensorflow:Unresolved object in checkpoint: (root).optimizer's state 'm' for (root).layer_with_weights-3.cell.bias\n",
            "WARNING:tensorflow:Unresolved object in checkpoint: (root).optimizer's state 'v' for (root).layer_with_weights-0.embeddings\n",
            "WARNING:tensorflow:Unresolved object in checkpoint: (root).optimizer's state 'v' for (root).layer_with_weights-1.embeddings\n",
            "WARNING:tensorflow:Unresolved object in checkpoint: (root).optimizer's state 'v' for (root).layer_with_weights-4.kernel\n",
            "WARNING:tensorflow:Unresolved object in checkpoint: (root).optimizer's state 'v' for (root).layer_with_weights-4.bias\n",
            "WARNING:tensorflow:Unresolved object in checkpoint: (root).optimizer's state 'v' for (root).layer_with_weights-2.cell.kernel\n",
            "WARNING:tensorflow:Unresolved object in checkpoint: (root).optimizer's state 'v' for (root).layer_with_weights-2.cell.recurrent_kernel\n",
            "WARNING:tensorflow:Unresolved object in checkpoint: (root).optimizer's state 'v' for (root).layer_with_weights-2.cell.bias\n",
            "WARNING:tensorflow:Unresolved object in checkpoint: (root).optimizer's state 'v' for (root).layer_with_weights-3.cell.kernel\n",
            "WARNING:tensorflow:Unresolved object in checkpoint: (root).optimizer's state 'v' for (root).layer_with_weights-3.cell.recurrent_kernel\n",
            "WARNING:tensorflow:Unresolved object in checkpoint: (root).optimizer's state 'v' for (root).layer_with_weights-3.cell.bias\n",
            "WARNING:tensorflow:A checkpoint was restored (e.g. tf.train.Checkpoint.restore or tf.keras.Model.load_weights) but not all checkpointed values were used. See above for specific issues. Use expect_partial() on the load status object, e.g. tf.train.Checkpoint.restore(...).expect_partial(), to silence these warnings, or use assert_consumed() to make the check explicit. See https://www.tensorflow.org/guide/checkpoint#loading_mechanics for details.\n",
            "Model: \"functional_3\"\n",
            "__________________________________________________________________________________________________\n",
            "Layer (type)                    Output Shape         Param #     Connected to                     \n",
            "==================================================================================================\n",
            "input_3 (InputLayer)            [(None, 140)]        0                                            \n",
            "__________________________________________________________________________________________________\n",
            "input_4 (InputLayer)            [(None, 171)]        0                                            \n",
            "__________________________________________________________________________________________________\n",
            "embedding_2 (Embedding)         (None, 140, 200)     1316200     input_3[0][0]                    \n",
            "__________________________________________________________________________________________________\n",
            "embedding_3 (Embedding)         (None, 171, 200)     1316200     input_4[0][0]                    \n",
            "__________________________________________________________________________________________________\n",
            "lstm_2 (LSTM)                   [(None, 100), (None, 120400      embedding_2[0][0]                \n",
            "__________________________________________________________________________________________________\n",
            "lstm_3 (LSTM)                   [(None, 171, 100), ( 120400      embedding_3[0][0]                \n",
            "                                                                 lstm_2[0][1]                     \n",
            "                                                                 lstm_2[0][2]                     \n",
            "__________________________________________________________________________________________________\n",
            "dense_1 (Dense)                 (None, 171, 6581)    664681      lstm_3[0][0]                     \n",
            "==================================================================================================\n",
            "Total params: 3,537,881\n",
            "Trainable params: 3,537,881\n",
            "Non-trainable params: 0\n",
            "__________________________________________________________________________________________________\n"
          ],
          "name": "stdout"
        },
        {
          "output_type": "execute_result",
          "data": {
            "image/png": "[encoded data removed]",
            "text/plain": [
              "<IPython.core.display.Image object>"
            ]
          },
          "metadata": {
            "tags": []
          },
          "execution_count": 6
        }
      ]
    },
    {
      "cell_type": "code",
      "metadata": {
        "id": "ACf40Nc-DZ2n",
        "colab_type": "code",
        "colab": {}
      },
      "source": [
        "checkpoint_callback=tf.keras.callbacks.ModelCheckpoint(\n",
        "    filepath=checkpoint_prefix,\n",
        "    save_weights_only=True)"
      ],
      "execution_count": null,
      "outputs": []
    },
    {
      "cell_type": "code",
      "metadata": {
        "id": "m8ddCk8C_ow3",
        "colab_type": "code",
        "colab": {
          "base_uri": "https://localhost:8080/",
          "height": 1000
        },
        "outputId": "3dd7ae22-4c71-4c11-82bd-d581f9fdbb10"
      },
      "source": [
        "STARTING_EPOCH = 30\n",
        "EPOCHS = 100\n",
        "\n",
        "train_model.compile(\n",
        "    optimizer='adam',\n",
        "    loss='sparse_categorical_crossentropy',\n",
        "    run_eagerly=False)\n",
        "\n",
        "history = train_model.fit([encoder_input , decoder_input], target, initial_epoch=STARTING_EPOCH, epochs=EPOCHS, callbacks=[checkpoint_callback]) "
      ],
      "execution_count": null,
      "outputs": [
        {
          "output_type": "stream",
          "text": [
            "Epoch 31/100\n",
            "749/749 [==============================] - 71s 95ms/step - loss: 0.0900\n",
            "Epoch 32/100\n",
            "749/749 [==============================] - 71s 95ms/step - loss: 0.0888\n",
            "Epoch 33/100\n",
            "749/749 [==============================] - 71s 94ms/step - loss: 0.0875\n",
            "Epoch 34/100\n",
            "749/749 [==============================] - 71s 94ms/step - loss: 0.0864\n",
            "Epoch 35/100\n",
            "749/749 [==============================] - 70s 94ms/step - loss: 0.0852\n",
            "Epoch 36/100\n",
            "749/749 [==============================] - 70s 94ms/step - loss: 0.0841\n",
            "Epoch 37/100\n",
            "749/749 [==============================] - 70s 93ms/step - loss: 0.0831\n",
            "Epoch 38/100\n",
            "749/749 [==============================] - 70s 93ms/step - loss: 0.0821\n",
            "Epoch 39/100\n",
            "749/749 [==============================] - 70s 94ms/step - loss: 0.0811\n",
            "Epoch 40/100\n",
            "749/749 [==============================] - 70s 93ms/step - loss: 0.0801\n",
            "Epoch 41/100\n",
            "749/749 [==============================] - 70s 93ms/step - loss: 0.0792\n",
            "Epoch 42/100\n",
            "749/749 [==============================] - 70s 93ms/step - loss: 0.0783\n",
            "Epoch 43/100\n",
            "749/749 [==============================] - 70s 93ms/step - loss: 0.0774\n",
            "Epoch 44/100\n",
            "749/749 [==============================] - 70s 93ms/step - loss: 0.0768\n",
            "Epoch 45/100\n",
            "749/749 [==============================] - 69s 93ms/step - loss: 0.0759\n",
            "Epoch 46/100\n",
            "749/749 [==============================] - 69s 93ms/step - loss: 0.0750\n",
            "Epoch 47/100\n",
            "749/749 [==============================] - 69s 93ms/step - loss: 0.0743\n",
            "Epoch 48/100\n",
            "749/749 [==============================] - 69s 93ms/step - loss: 0.0736\n",
            "Epoch 49/100\n",
            "749/749 [==============================] - 69s 92ms/step - loss: 0.0729\n",
            "Epoch 50/100\n",
            "749/749 [==============================] - 69s 92ms/step - loss: 0.0722\n",
            "Epoch 51/100\n",
            "749/749 [==============================] - 68s 91ms/step - loss: 0.0715\n",
            "Epoch 52/100\n",
            "749/749 [==============================] - 69s 92ms/step - loss: 0.0708\n",
            "Epoch 53/100\n",
            "749/749 [==============================] - 68s 91ms/step - loss: 0.0703\n",
            "Epoch 54/100\n",
            "749/749 [==============================] - 69s 92ms/step - loss: 0.0697\n",
            "Epoch 55/100\n",
            "749/749 [==============================] - 68s 91ms/step - loss: 0.0690\n",
            "Epoch 56/100\n",
            "749/749 [==============================] - 68s 91ms/step - loss: 0.0685\n",
            "Epoch 57/100\n",
            "749/749 [==============================] - 68s 91ms/step - loss: 0.0678\n",
            "Epoch 58/100\n",
            "749/749 [==============================] - 68s 91ms/step - loss: 0.0673\n",
            "Epoch 59/100\n",
            "749/749 [==============================] - 68s 91ms/step - loss: 0.0668\n",
            "Epoch 60/100\n",
            "749/749 [==============================] - 68s 91ms/step - loss: 0.0664\n",
            "Epoch 61/100\n",
            "749/749 [==============================] - 68s 91ms/step - loss: 0.0657\n",
            "Epoch 62/100\n",
            "749/749 [==============================] - 68s 91ms/step - loss: 0.0652\n",
            "Epoch 63/100\n",
            "749/749 [==============================] - 68s 91ms/step - loss: 0.0648\n",
            "Epoch 64/100\n",
            "749/749 [==============================] - 68s 91ms/step - loss: 0.0644\n",
            "Epoch 65/100\n",
            "749/749 [==============================] - 70s 93ms/step - loss: 0.0638\n",
            "Epoch 66/100\n",
            "749/749 [==============================] - 69s 92ms/step - loss: 0.0633\n",
            "Epoch 67/100\n",
            "749/749 [==============================] - 69s 92ms/step - loss: 0.0629\n",
            "Epoch 68/100\n",
            "749/749 [==============================] - 69s 92ms/step - loss: 0.0626\n",
            "Epoch 69/100\n",
            "749/749 [==============================] - 69s 92ms/step - loss: 0.0622\n",
            "Epoch 70/100\n",
            "749/749 [==============================] - 69s 93ms/step - loss: 0.0616\n",
            "Epoch 71/100\n",
            "749/749 [==============================] - 71s 94ms/step - loss: 0.0612\n",
            "Epoch 72/100\n",
            "749/749 [==============================] - 69s 93ms/step - loss: 0.0609\n",
            "Epoch 73/100\n",
            "749/749 [==============================] - 69s 92ms/step - loss: 0.0606\n",
            "Epoch 74/100\n",
            "749/749 [==============================] - 69s 92ms/step - loss: 0.0602\n",
            "Epoch 75/100\n",
            "749/749 [==============================] - 70s 93ms/step - loss: 0.0597\n",
            "Epoch 76/100\n",
            "749/749 [==============================] - 69s 93ms/step - loss: 0.0595\n",
            "Epoch 77/100\n",
            "749/749 [==============================] - 69s 92ms/step - loss: 0.0591\n",
            "Epoch 78/100\n",
            "749/749 [==============================] - 69s 93ms/step - loss: 0.0589\n",
            "Epoch 79/100\n",
            "749/749 [==============================] - 69s 92ms/step - loss: 0.0583\n",
            "Epoch 80/100\n",
            "749/749 [==============================] - 69s 93ms/step - loss: 0.0580\n",
            "Epoch 81/100\n",
            "749/749 [==============================] - 69s 92ms/step - loss: 0.0576\n",
            "Epoch 82/100\n",
            "749/749 [==============================] - 69s 93ms/step - loss: 0.0574\n",
            "Epoch 83/100\n",
            "749/749 [==============================] - 70s 93ms/step - loss: 0.0571\n",
            "Epoch 84/100\n",
            "749/749 [==============================] - 71s 94ms/step - loss: 0.0570\n",
            "Epoch 85/100\n",
            "749/749 [==============================] - 70s 93ms/step - loss: 0.0566\n",
            "Epoch 86/100\n",
            "749/749 [==============================] - 70s 93ms/step - loss: 0.0560\n",
            "Epoch 87/100\n",
            "749/749 [==============================] - 70s 93ms/step - loss: 0.0558\n",
            "Epoch 88/100\n",
            "749/749 [==============================] - 70s 93ms/step - loss: 0.0555\n",
            "Epoch 89/100\n",
            "749/749 [==============================] - 70s 93ms/step - loss: 0.0554\n",
            "Epoch 90/100\n",
            "749/749 [==============================] - 70s 93ms/step - loss: 0.0550\n",
            "Epoch 91/100\n",
            "749/749 [==============================] - 69s 92ms/step - loss: 0.0547\n",
            "Epoch 92/100\n",
            "749/749 [==============================] - 69s 93ms/step - loss: 0.0546\n",
            "Epoch 93/100\n",
            "749/749 [==============================] - 69s 92ms/step - loss: 0.0542\n",
            "Epoch 94/100\n",
            "749/749 [==============================] - 69s 93ms/step - loss: 0.0541\n",
            "Epoch 95/100\n",
            "749/749 [==============================] - 69s 92ms/step - loss: 0.0536\n",
            "Epoch 96/100\n",
            "749/749 [==============================] - 69s 92ms/step - loss: 0.0537\n",
            "Epoch 97/100\n",
            "749/749 [==============================] - 69s 92ms/step - loss: 0.0533\n",
            "Epoch 98/100\n",
            "749/749 [==============================] - 69s 92ms/step - loss: 0.0530\n",
            "Epoch 99/100\n",
            "749/749 [==============================] - 69s 92ms/step - loss: 0.0527\n",
            "Epoch 100/100\n",
            "749/749 [==============================] - 69s 92ms/step - loss: 0.0525\n"
          ],
          "name": "stdout"
        }
      ]
    },
    {
      "cell_type": "markdown",
      "metadata": {
        "id": "uwYS_ub9JBVA",
        "colab_type": "text"
      },
      "source": [
        "# **Build inference model**"
      ]
    },
    {
      "cell_type": "code",
      "metadata": {
        "id": "fyOzm7hrHDnj",
        "colab_type": "code",
        "colab": {}
      },
      "source": [
        "def build_inference_models(embedding_dim, rnn_units, vocab_size):\n",
        "  # encoding\n",
        "  encoder_inputs = tf.keras.layers.Input(shape=(max_encoder_len,), name='en_input')\n",
        "  encoder_embedding = tf.keras.layers.Embedding(vocab_size, embedding_dim, mask_zero=False, name='en_embedding')(encoder_inputs)\n",
        "  encoder_outputs, state_h, state_c = tf.keras.layers.LSTM(rnn_units, return_state=True, name='en_lstm')(encoder_embedding)\n",
        "  encoder_states = [state_h, state_c]\n",
        "  \n",
        "  encoding_model = tf.keras.models.Model(encoder_inputs, encoder_states)\n",
        "\n",
        "  # decoding\n",
        "  decoder_state_input_h = tf.keras.layers.Input(dtype='float32', shape=(None,), name='dec_input_h')\n",
        "  decoder_state_input_c = tf.keras.layers.Input(dtype='float32', shape=(None,), name='dec_input_c')  \n",
        "  decoder_states_inputs = [decoder_state_input_h, decoder_state_input_c]\n",
        "  decoder_inputs = tf.keras.layers.Input(dtype='float32', shape=(max_decoder_len,), name='dec_input')\n",
        "\n",
        "  decoder_embedding = tf.keras.layers.Embedding(vocab_size, embedding_dim, mask_zero=False, name='dec_embedding')(decoder_inputs)\n",
        "  decoder_outputs , decoder_state_h , decoder_state_c = tf.keras.layers.LSTM(rnn_units, return_state=True , return_sequences=True, name='dec_lstm')(decoder_embedding, initial_state=decoder_states_inputs)\n",
        "  decoder_states_outputs = [decoder_state_h, decoder_state_c]\n",
        "  output = tf.keras.layers.Dense(vocab_size, activation=tf.keras.activations.softmax, name='dec_dense')(decoder_outputs)\n",
        "  \n",
        "  decoding_model = tf.keras.models.Model([decoder_inputs] + decoder_states_inputs, [output] + decoder_states_outputs)\n",
        "\n",
        "  return encoding_model, decoding_model"
      ],
      "execution_count": null,
      "outputs": []
    },
    {
      "cell_type": "code",
      "metadata": {
        "id": "ztBakC_TIXz0",
        "colab_type": "code",
        "colab": {
          "base_uri": "https://localhost:8080/",
          "height": 136
        },
        "outputId": "6da5c6e0-7bb6-4a1b-b37f-f80295ab59db"
      },
      "source": [
        "trained_model.layers"
      ],
      "execution_count": null,
      "outputs": [
        {
          "output_type": "execute_result",
          "data": {
            "text/plain": [
              "[<tensorflow.python.keras.engine.input_layer.InputLayer at 0x7fb8e62ade10>,\n",
              " <tensorflow.python.keras.engine.input_layer.InputLayer at 0x7fb8e60b0940>,\n",
              " <tensorflow.python.keras.layers.embeddings.Embedding at 0x7fb8e6237cf8>,\n",
              " <tensorflow.python.keras.layers.embeddings.Embedding at 0x7fb8e60d8b00>,\n",
              " <tensorflow.python.keras.layers.recurrent_v2.LSTM at 0x7fb8e60cfa58>,\n",
              " <tensorflow.python.keras.layers.recurrent_v2.LSTM at 0x7fb8e60d8cf8>,\n",
              " <tensorflow.python.keras.layers.core.Dense at 0x7fb8d97419e8>]"
            ]
          },
          "metadata": {
            "tags": []
          },
          "execution_count": 16
        }
      ]
    },
    {
      "cell_type": "code",
      "metadata": {
        "id": "QfavxOYjHS9P",
        "colab_type": "code",
        "colab": {
          "base_uri": "https://localhost:8080/",
          "height": 496
        },
        "outputId": "b3225b30-17a4-445c-af40-54db123d8272"
      },
      "source": [
        "en_model, dec_model = build_inference_models(EMBEDDING_DIM, RNN_UNITS, VOCAB_SIZE)\n",
        "trained_model = build_train_model(EMBEDDING_DIM, RNN_UNITS, VOCAB_SIZE)\n",
        "trained_model.load_weights(tf.train.latest_checkpoint(checkpoint_dir))\n",
        "\n",
        "en_model.layers[1].set_weights(trained_model.layers[2].get_weights())\n",
        "en_model.layers[2].set_weights(trained_model.layers[4].get_weights())\n",
        "\n",
        "dec_model.layers[1].set_weights(trained_model.layers[3].get_weights())\n",
        "dec_model.layers[4].set_weights(trained_model.layers[5].get_weights())\n",
        "dec_model.layers[5].set_weights(trained_model.layers[6].get_weights())"
      ],
      "execution_count": null,
      "outputs": [
        {
          "output_type": "stream",
          "text": [
            "WARNING:tensorflow:Unresolved object in checkpoint: (root).optimizer\n",
            "WARNING:tensorflow:Unresolved object in checkpoint: (root).optimizer.iter\n",
            "WARNING:tensorflow:Unresolved object in checkpoint: (root).optimizer.beta_1\n",
            "WARNING:tensorflow:Unresolved object in checkpoint: (root).optimizer.beta_2\n",
            "WARNING:tensorflow:Unresolved object in checkpoint: (root).optimizer.decay\n",
            "WARNING:tensorflow:Unresolved object in checkpoint: (root).optimizer.learning_rate\n",
            "WARNING:tensorflow:Unresolved object in checkpoint: (root).optimizer's state 'm' for (root).layer_with_weights-0.embeddings\n",
            "WARNING:tensorflow:Unresolved object in checkpoint: (root).optimizer's state 'm' for (root).layer_with_weights-1.embeddings\n",
            "WARNING:tensorflow:Unresolved object in checkpoint: (root).optimizer's state 'm' for (root).layer_with_weights-4.kernel\n",
            "WARNING:tensorflow:Unresolved object in checkpoint: (root).optimizer's state 'm' for (root).layer_with_weights-4.bias\n",
            "WARNING:tensorflow:Unresolved object in checkpoint: (root).optimizer's state 'm' for (root).layer_with_weights-2.cell.kernel\n",
            "WARNING:tensorflow:Unresolved object in checkpoint: (root).optimizer's state 'm' for (root).layer_with_weights-2.cell.recurrent_kernel\n",
            "WARNING:tensorflow:Unresolved object in checkpoint: (root).optimizer's state 'm' for (root).layer_with_weights-2.cell.bias\n",
            "WARNING:tensorflow:Unresolved object in checkpoint: (root).optimizer's state 'm' for (root).layer_with_weights-3.cell.kernel\n",
            "WARNING:tensorflow:Unresolved object in checkpoint: (root).optimizer's state 'm' for (root).layer_with_weights-3.cell.recurrent_kernel\n",
            "WARNING:tensorflow:Unresolved object in checkpoint: (root).optimizer's state 'm' for (root).layer_with_weights-3.cell.bias\n",
            "WARNING:tensorflow:Unresolved object in checkpoint: (root).optimizer's state 'v' for (root).layer_with_weights-0.embeddings\n",
            "WARNING:tensorflow:Unresolved object in checkpoint: (root).optimizer's state 'v' for (root).layer_with_weights-1.embeddings\n",
            "WARNING:tensorflow:Unresolved object in checkpoint: (root).optimizer's state 'v' for (root).layer_with_weights-4.kernel\n",
            "WARNING:tensorflow:Unresolved object in checkpoint: (root).optimizer's state 'v' for (root).layer_with_weights-4.bias\n",
            "WARNING:tensorflow:Unresolved object in checkpoint: (root).optimizer's state 'v' for (root).layer_with_weights-2.cell.kernel\n",
            "WARNING:tensorflow:Unresolved object in checkpoint: (root).optimizer's state 'v' for (root).layer_with_weights-2.cell.recurrent_kernel\n",
            "WARNING:tensorflow:Unresolved object in checkpoint: (root).optimizer's state 'v' for (root).layer_with_weights-2.cell.bias\n",
            "WARNING:tensorflow:Unresolved object in checkpoint: (root).optimizer's state 'v' for (root).layer_with_weights-3.cell.kernel\n",
            "WARNING:tensorflow:Unresolved object in checkpoint: (root).optimizer's state 'v' for (root).layer_with_weights-3.cell.recurrent_kernel\n",
            "WARNING:tensorflow:Unresolved object in checkpoint: (root).optimizer's state 'v' for (root).layer_with_weights-3.cell.bias\n",
            "WARNING:tensorflow:A checkpoint was restored (e.g. tf.train.Checkpoint.restore or tf.keras.Model.load_weights) but not all checkpointed values were used. See above for specific issues. Use expect_partial() on the load status object, e.g. tf.train.Checkpoint.restore(...).expect_partial(), to silence these warnings, or use assert_consumed() to make the check explicit. See https://www.tensorflow.org/guide/checkpoint#loading_mechanics for details.\n"
          ],
          "name": "stdout"
        }
      ]
    },
    {
      "cell_type": "code",
      "metadata": {
        "id": "U7W5F5NvvWT4",
        "colab_type": "code",
        "colab": {
          "base_uri": "https://localhost:8080/",
          "height": 35
        },
        "outputId": "66ea147e-e71d-47c2-ef71-21a1b64297cb"
      },
      "source": [
        "tf.train.latest_checkpoint(checkpoint_dir)"
      ],
      "execution_count": null,
      "outputs": [
        {
          "output_type": "execute_result",
          "data": {
            "application/vnd.google.colaboratory.intrinsic+json": {
              "type": "string"
            },
            "text/plain": [
              "'./drive/My Drive/data/checkpoint/ckpt_100'"
            ]
          },
          "metadata": {
            "tags": []
          },
          "execution_count": 27
        }
      ]
    },
    {
      "cell_type": "code",
      "metadata": {
        "id": "jhte3KTOIg9S",
        "colab_type": "code",
        "colab": {
          "base_uri": "https://localhost:8080/",
          "height": 550
        },
        "outputId": "cdd3f560-8721-4008-8114-b98b542e1e8f"
      },
      "source": [
        "en_model.summary()\n",
        "tf.keras.utils.plot_model(en_model, show_shapes=True)"
      ],
      "execution_count": null,
      "outputs": [
        {
          "output_type": "stream",
          "text": [
            "Model: \"functional_11\"\n",
            "_________________________________________________________________\n",
            "Layer (type)                 Output Shape              Param #   \n",
            "=================================================================\n",
            "en_input (InputLayer)        [(None, 140)]             0         \n",
            "_________________________________________________________________\n",
            "en_embedding (Embedding)     (None, 140, 200)          1316200   \n",
            "_________________________________________________________________\n",
            "en_lstm (LSTM)               [(None, 100), (None, 100) 120400    \n",
            "=================================================================\n",
            "Total params: 1,436,600\n",
            "Trainable params: 1,436,600\n",
            "Non-trainable params: 0\n",
            "_________________________________________________________________\n"
          ],
          "name": "stdout"
        },
        {
          "output_type": "execute_result",
          "data": {
            "image/png": "[encoded data removed]",
            "text/plain": [
              "<IPython.core.display.Image object>"
            ]
          },
          "metadata": {
            "tags": []
          },
          "execution_count": 18
        }
      ]
    },
    {
      "cell_type": "code",
      "metadata": {
        "id": "CjVBUj3-IVG8",
        "colab_type": "code",
        "colab": {
          "base_uri": "https://localhost:8080/",
          "height": 796
        },
        "outputId": "77bf004a-9683-468b-c2c8-3e6e704c4432"
      },
      "source": [
        "dec_model.summary()\n",
        "tf.keras.utils.plot_model(dec_model, show_shapes=True)"
      ],
      "execution_count": null,
      "outputs": [
        {
          "output_type": "stream",
          "text": [
            "Model: \"functional_13\"\n",
            "__________________________________________________________________________________________________\n",
            "Layer (type)                    Output Shape         Param #     Connected to                     \n",
            "==================================================================================================\n",
            "dec_input (InputLayer)          [(None, 171)]        0                                            \n",
            "__________________________________________________________________________________________________\n",
            "dec_embedding (Embedding)       (None, 171, 200)     1316200     dec_input[0][0]                  \n",
            "__________________________________________________________________________________________________\n",
            "dec_input_h (InputLayer)        [(None, None)]       0                                            \n",
            "__________________________________________________________________________________________________\n",
            "dec_input_c (InputLayer)        [(None, None)]       0                                            \n",
            "__________________________________________________________________________________________________\n",
            "dec_lstm (LSTM)                 [(None, 171, 100), ( 120400      dec_embedding[0][0]              \n",
            "                                                                 dec_input_h[0][0]                \n",
            "                                                                 dec_input_c[0][0]                \n",
            "__________________________________________________________________________________________________\n",
            "dec_dense (Dense)               (None, 171, 6581)    664681      dec_lstm[0][0]                   \n",
            "==================================================================================================\n",
            "Total params: 2,101,281\n",
            "Trainable params: 2,101,281\n",
            "Non-trainable params: 0\n",
            "__________________________________________________________________________________________________\n"
          ],
          "name": "stdout"
        },
        {
          "output_type": "execute_result",
          "data": {
            "image/png": "[encoded data removed]",
            "text/plain": [
              "<IPython.core.display.Image object>"
            ]
          },
          "metadata": {
            "tags": []
          },
          "execution_count": 19
        }
      ]
    },
    {
      "cell_type": "markdown",
      "metadata": {
        "id": "l40E11MkJMo-",
        "colab_type": "text"
      },
      "source": [
        "# **Evaluate**"
      ]
    },
    {
      "cell_type": "code",
      "metadata": {
        "id": "Kgc-NzvVJYOl",
        "colab_type": "code",
        "colab": {}
      },
      "source": [
        "def generate_text(question):\n",
        "\n",
        "  # Converting our question to numbers (vectorizing)\n",
        "  en_input = tokenizer.texts_to_sequences([question])\n",
        "  en_input = pad_sequences(en_input, maxlen=max_encoder_len, padding='post')\n",
        "  \n",
        "  states = en_model(en_input)\n",
        "  \n",
        "  de_input = np.zeros((1, 1)) # starting with an empty string\n",
        "  de_input[0, 0] = tokenizer.texts_to_sequences('<start>')[0][0]\n",
        "  \n",
        "  response_generated = []\n",
        "  temperature = 1\n",
        "  count = 0\n",
        "  \n",
        "  while True:\n",
        "    predictions, state_h, state_c = dec_model([de_input] + states)\n",
        "    predictions = tf.squeeze(predictions, [1])\n",
        "\n",
        "    # using a categorical distribution to predict the character returned by the model\n",
        "    predictions = predictions / temperature\n",
        "    #print(predictions)\n",
        "    predicted_id = np.argmax(predictions[0])\n",
        "    #print(predicted_id)\n",
        "\n",
        "    if tokenizer.sequences_to_texts([[predicted_id]])[0] != '<eov>':\n",
        "      count +=1\n",
        "      de_input = tf.expand_dims([predicted_id], 0)\n",
        "      #print(tokenizer.sequences_to_texts([[predicted_id]]))\n",
        "      response_generated.append(tokenizer.sequences_to_texts([[predicted_id]])[0])\n",
        "      \n",
        "      if count == 10:\n",
        "        break  \n",
        "    else:\n",
        "      response_generated.append('\\n')\n",
        "      break\n",
        "  \n",
        "  return (' '.join(response_generated))"
      ],
      "execution_count": null,
      "outputs": []
    },
    {
      "cell_type": "code",
      "metadata": {
        "id": "_AYnFN55JdtC",
        "colab_type": "code",
        "colab": {
          "base_uri": "https://localhost:8080/",
          "height": 51
        },
        "outputId": "cdd3087e-8f0a-4ed8-e993-774a7e0457e7"
      },
      "source": [
        "question = input('Customer says:')\n",
        "response = generate_text(question)\n",
        "print('Assistant says: {}'.format(response))"
      ],
      "execution_count": null,
      "outputs": [
        {
          "output_type": "stream",
          "text": [
            "Customer says:what\n",
            "Assistant says: kid upon embarks cold d dreams finds rest buying little\n"
          ],
          "name": "stdout"
        }
      ]
    }
  ]
}